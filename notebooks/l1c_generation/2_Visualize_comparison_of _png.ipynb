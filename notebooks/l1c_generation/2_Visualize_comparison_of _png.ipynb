{
 "cells": [
  {
   "attachments": {},
   "cell_type": "markdown",
   "metadata": {},
   "source": [
    "# Visualization of generated .png Copernicus Hub L1c patches against MARIDA patches \n",
    "This notebook visualizes the bands of a generated .png L1C patches of Copernicus Hub that were shifted and cropped to make them similar to the MARIDA patches and their corresponding MARIDA bands."
   ]
  },
  {
   "cell_type": "code",
   "execution_count": null,
   "metadata": {},
   "outputs": [],
   "source": [
    "%load_ext autoreload\n",
    "%autoreload 2"
   ]
  },
  {
   "cell_type": "code",
   "execution_count": null,
   "metadata": {},
   "outputs": [],
   "source": [
    "import os\n",
    "import matplotlib.pyplot as plt\n",
    "\n",
    "from anomalymarinedetection.utils.constants import COP_HUB_BASE_NAME\n",
    "from anomalymarinedetection.utils.string import number_starting_with_zero_2_number\n",
    "from anomalymarinedetection.io.tif_io import TifIO"
   ]
  },
  {
   "cell_type": "code",
   "execution_count": null,
   "metadata": {},
   "outputs": [],
   "source": [
    "marida_patches_path = \"/data/anomaly-marine-detection/data/patches/\"\n",
    "shifted_and_cropped_cop_hub_patches_path = \"/data/anomaly-marine-detection/data/l1c_data/images_after_keypoint_matching\"\n",
    "\n",
    "# MARIDA excluded bands B09 and B10 => bands to use to do keypoints matching:\n",
    "# B01, B02, B03, B04, B05, B06, B07, B08, B8A, B11, B12\n",
    "BAND_NAMES_IN_MARIDA = [\"B01\", \"B02\", \"B03\", \"B04\", \"B05\", \"B06\", \"B07\", \"B08\", \"B8A\", \"B11\", \"B12\"]\n",
    "\n",
    "number = \"6\"\n",
    "ext = \".tif\"\n",
    "marida_patch_name = \"S2_29-8-17_51RVQ\"\n",
    "L1C = \"_l1c_\" \n",
    "\n",
    "band_cop_hub = \"B04\"\n",
    "\n",
    "if band_cop_hub == \"B09\" or band_cop_hub == \"B10\":\n",
    "    raise Exception(\"MARIDA removed bands B09 and B10\")\n",
    "elif band_cop_hub == \"B11\" or band_cop_hub == \"B12\":\n",
    "    # we subtract 2 if it is band B11 or B12 due to the removal of previous bands B09 and B10\n",
    "    band_marida = int(number_starting_with_zero_2_number(band_cop_hub[-2:])) - 2\n",
    "elif band_cop_hub == \"B8A\":\n",
    "    band_marida = 8\n",
    "else:   \n",
    "    band_marida = int(number_starting_with_zero_2_number(band_cop_hub[-2:])) - 1"
   ]
  },
  {
   "cell_type": "code",
   "execution_count": null,
   "metadata": {},
   "outputs": [],
   "source": [
    "tif_io = TifIO()"
   ]
  },
  {
   "cell_type": "code",
   "execution_count": null,
   "metadata": {},
   "outputs": [],
   "source": [
    "marida_path = os.path.join(marida_patches_path, marida_patch_name, marida_patch_name + \"_\" + number + ext)\n",
    "img_marida, _ = tif_io.acquire_data(marida_path)\n",
    "plt.title(\"MARIDA\")\n",
    "plt.imshow(img_marida[:, :, band_marida])"
   ]
  },
  {
   "cell_type": "code",
   "execution_count": null,
   "metadata": {},
   "outputs": [],
   "source": [
    "img_cop_hub_shifted_and_cropped, _ = tif_io.acquire_data(\n",
    "    os.path.join(\n",
    "        shifted_and_cropped_cop_hub_patches_path,\n",
    "        COP_HUB_BASE_NAME + \"_\" + \n",
    "        marida_patch_name + \"_\" + \n",
    "        number + \"_\" + band_cop_hub + \"_shifted.png\",)\n",
    ")\n",
    "print(img_cop_hub_shifted_and_cropped.shape)\n",
    "plt.title(\"Copernicus Hub\")\n",
    "plt.imshow(img_cop_hub_shifted_and_cropped)"
   ]
  },
  {
   "cell_type": "code",
   "execution_count": null,
   "metadata": {},
   "outputs": [],
   "source": [
    "fig, ax = plt.subplots(1, 2)\n",
    "ax[0].set_title(\"MARIDA\")\n",
    "ax[0].imshow(img_marida[:, :, band_marida] / img_marida[:, :, band_marida].max())\n",
    "ax[1].set_title(\"Copernicus Hub\")\n",
    "ax[1].imshow(img_cop_hub_shifted_and_cropped / img_cop_hub_shifted_and_cropped.max())"
   ]
  }
 ],
 "metadata": {
  "kernelspec": {
   "display_name": "anomaly-marine-detection",
   "language": "python",
   "name": "python3"
  },
  "language_info": {
   "codemirror_mode": {
    "name": "ipython",
    "version": 3
   },
   "file_extension": ".py",
   "mimetype": "text/x-python",
   "name": "python",
   "nbconvert_exporter": "python",
   "pygments_lexer": "ipython3",
   "version": "3.10.10"
  },
  "orig_nbformat": 4
 },
 "nbformat": 4,
 "nbformat_minor": 2
}

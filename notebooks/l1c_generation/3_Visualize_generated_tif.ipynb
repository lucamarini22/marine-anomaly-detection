{
 "cells": [
  {
   "attachments": {},
   "cell_type": "markdown",
   "metadata": {},
   "source": [
    "# Visualization of generated .tif Copernicus Hub L1c patches\n",
    "This notebook visualizes the bands of a generated .tif L1C patches of Copernicus Hub that were shifted and cropped to make them similar to the MARIDA patches. The corresponding MARIDA patches are visualized next to the generated bands. The .tif files are the ones that will form the L1C dataset.\n",
    "\n",
    "The generated patches contain also bands B09 and B10, which are not included in the MARIDA patches. These two bands were also shifted and cropped as the other bands."
   ]
  },
  {
   "cell_type": "code",
   "execution_count": null,
   "metadata": {},
   "outputs": [],
   "source": [
    "%load_ext autoreload\n",
    "%autoreload 2"
   ]
  },
  {
   "cell_type": "code",
   "execution_count": null,
   "metadata": {},
   "outputs": [],
   "source": [
    "import os\n",
    "import matplotlib.pyplot as plt\n",
    "\n",
    "from marineanomalydetection.utils.constants import COP_HUB_BASE_NAME, BAND_NAMES_IN_COPERNICUS_HUB\n",
    "from marineanomalydetection.io.tif_io import TifIO"
   ]
  },
  {
   "cell_type": "code",
   "execution_count": null,
   "metadata": {},
   "outputs": [],
   "source": [
    "patch_name = \"S2_24-3-20_18QYF\"\n",
    "number = \"1\"\n",
    "separator = \"_\"\n",
    "specific_patch_name = patch_name + separator + number\n",
    "\n",
    "path_marida_tif = f\"/data/anomaly-marine-detection/data/patches/{patch_name}/{specific_patch_name}.tif\"\n",
    "path_generated_tif = f\"/data/anomaly-marine-detection/data/l1c_data/tif_final/{specific_patch_name}.tif\""
   ]
  },
  {
   "cell_type": "code",
   "execution_count": null,
   "metadata": {},
   "outputs": [],
   "source": [
    "tif_io = TifIO()"
   ]
  },
  {
   "cell_type": "code",
   "execution_count": null,
   "metadata": {},
   "outputs": [],
   "source": [
    "\n",
    "img_marida_path = os.path.join(path_marida_tif)\n",
    "img_marida, _ = tif_io.acquire_data(img_marida_path)\n",
    "print(img_marida.shape)"
   ]
  },
  {
   "cell_type": "code",
   "execution_count": null,
   "metadata": {},
   "outputs": [],
   "source": [
    "img_shifted_cropped_cop_hub_path = os.path.join(path_generated_tif)\n",
    "img_shifted_cropped_cop_hub, _ = tif_io.acquire_data(img_shifted_cropped_cop_hub_path)\n",
    "print(img_shifted_cropped_cop_hub.shape)\n",
    "j = 0\n",
    "for i in range(13):\n",
    "    fig, ax = plt.subplots(1, 2)\n",
    "    fig.suptitle(f\"Band {BAND_NAMES_IN_COPERNICUS_HUB[i]}\", fontsize=12, y=0.85)\n",
    "    \n",
    "    ax[0].set_title(\"Shifted cropped CopHub tif\")\n",
    "    ax[0].imshow(img_shifted_cropped_cop_hub[:, :, i] / img_shifted_cropped_cop_hub[:, :, i].max())\n",
    "    \n",
    "    if i == 9 or i == 10:\n",
    "        pass\n",
    "    else:\n",
    "        ax[1].set_title(\"MARIDA \")\n",
    "        ax[1].imshow(img_marida[:, :, j] / img_marida[:, :, j].max())\n",
    "        j += 1\n",
    "    "
   ]
  },
  {
   "cell_type": "code",
   "execution_count": null,
   "metadata": {},
   "outputs": [],
   "source": []
  }
 ],
 "metadata": {
  "kernelspec": {
   "display_name": "anomaly-marine-detection",
   "language": "python",
   "name": "python3"
  },
  "language_info": {
   "codemirror_mode": {
    "name": "ipython",
    "version": 3
   },
   "file_extension": ".py",
   "mimetype": "text/x-python",
   "name": "python",
   "nbconvert_exporter": "python",
   "pygments_lexer": "ipython3",
   "version": "3.10.10"
  },
  "orig_nbformat": 4
 },
 "nbformat": 4,
 "nbformat_minor": 2
}

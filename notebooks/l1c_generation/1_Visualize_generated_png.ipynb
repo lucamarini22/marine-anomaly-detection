{
 "cells": [
  {
   "attachments": {},
   "cell_type": "markdown",
   "metadata": {},
   "source": [
    "# Visualization of generated .png Copernicus Hub L1c patches\n",
    "This notebook visualizes the bands of a generated .png L1C patches of Copernicus Hub that were shifted and cropped to make them similar to the MARIDA patches.\n",
    "\n",
    "The patches I took from Copernicus Hub are larger than the ones of MARIDA. So, this notebook:\n",
    "-  computes and matches keypoints between the two patches\n",
    "-  computes an estimation of the horizontal and vertical shift between the two patches and applies the shift\n",
    "-  get the center of the marida patch, applies the shift to it, and crops the copernicus hub patch by setting the shifted marida center coordinates as center and size equal to the marida patch size. "
   ]
  },
  {
   "cell_type": "code",
   "execution_count": null,
   "metadata": {},
   "outputs": [],
   "source": [
    "import numpy as np\n",
    "import matplotlib.pyplot as plt\n",
    "import cv2 as cv\n",
    "\n",
    "from marineanomalydetection.utils.get_coords_of_keypoint import get_coords_of_keypoint"
   ]
  },
  {
   "cell_type": "code",
   "execution_count": null,
   "metadata": {},
   "outputs": [],
   "source": [
    "path = '/data/anomaly-marine-detection/data/l1c_data/keypoints_pairs/mar_S2_24-3-20_18QYF_0_B01_cophub_S2_24-3-20_18QYF_0_B01_matches.npz'\n",
    "npz = np.load(path)\n",
    "npz.files\n",
    "\n",
    "cop_hub_img_path = '/data/anomaly-marine-detection/data/l1c_data/images_before_keypoint_matching/cophub_S2_24-3-20_18QYF_0_B01.png'"
   ]
  },
  {
   "cell_type": "code",
   "execution_count": null,
   "metadata": {},
   "outputs": [],
   "source": [
    "print(npz['keypoints0'].shape)\n",
    "print(npz['keypoints1'].shape)\n",
    "print(npz['matches'].shape)\n",
    "print(np.sum(npz['matches']>-1))\n",
    "print(npz['match_confidence'].shape)"
   ]
  },
  {
   "cell_type": "code",
   "execution_count": null,
   "metadata": {},
   "outputs": [],
   "source": [
    "def discard_means_out_of_std_dev(diffs_x: list[float], diffs_y: list[float],\n",
    "                                 mean_diffs_x: float, std_dev_diffs_x: float,\n",
    "                                 mean_diffs_y: float, std_dev_diffs_y: float):\n",
    "    \"\"\"Discards differences whose value is not in the interval [mean_diff - std_dev, mean_diff + std_dev]\n",
    "    and do this for both horizontal and vertical differences\n",
    "\n",
    "    Args:\n",
    "        diffs_x (list[float]): horizontal differences\n",
    "        diffs_y (list[float]): vertical differences\n",
    "        mean_diffs_x (float): mean of horizontal differences\n",
    "        std_dev_diffs_x (float): standard deviation of horizontal differences\n",
    "        mean_diffs_y (float): mean of vertical differences\n",
    "        std_dev_diffs_y (float): standard deviation of vertical differences\n",
    "    \"\"\"\n",
    "    i = 0\n",
    "    while i < len(diffs_x):\n",
    "        if diffs_x[i] < mean_diffs_x - std_dev_diffs_x or diffs_x[i] > mean_diffs_x + std_dev_diffs_x \\\n",
    "            or diffs_y[i] < mean_diffs_y - std_dev_diffs_y or diffs_y[i] > mean_diffs_y + std_dev_diffs_y:\n",
    "                del diffs_x[i]\n",
    "                del diffs_y[i]\n",
    "        i += 1"
   ]
  },
  {
   "cell_type": "code",
   "execution_count": null,
   "metadata": {},
   "outputs": [],
   "source": [
    "# For each keypoint in keypoints0, the matches array indicates the index of \n",
    "# the matching keypoint in keypoints1, or -1 if the keypoint is unmatched.\n",
    "num_matches = 0\n",
    "\n",
    "diffs_x = []\n",
    "diffs_y = []\n",
    "\n",
    "for idx_keypoint_0, idx_keypoint_1 in enumerate(npz['matches']):\n",
    "    # Consider only keypoints that match\n",
    "    if idx_keypoint_1 != -1:\n",
    "        num_matches += 1\n",
    "        # Get coordinates of matched keypoints\n",
    "        keypont_0_x, keypont_0_y = get_coords_of_keypoint(npz['keypoints0'][idx_keypoint_0])\n",
    "        keypont_1_x, keypont_1_y = get_coords_of_keypoint(npz['keypoints1'][idx_keypoint_1])\n",
    "        # Get signed horizontal and vertical differences of corrdinates of matched keypoints\n",
    "        diff_x = keypont_0_x - keypont_1_x\n",
    "        diff_y = keypont_0_y - keypont_1_y\n",
    "        # Update lists of differences\n",
    "        diffs_x.append(diff_x)\n",
    "        diffs_y.append(diff_y)\n",
    "# Compute the mean of horizontal and vertical differences\n",
    "mean_diffs_x = np.mean(diffs_x)\n",
    "mean_diffs_y = np.mean(diffs_y)\n",
    "print(mean_diffs_x, mean_diffs_y)\n",
    "print(diffs_x)\n",
    "print(diffs_y)\n",
    "# Compute the std dev of horizontal and vertical differences\n",
    "std_dev_diffs_x = np.std(diffs_x)\n",
    "std_dev_diffs_y = np.std(diffs_y)\n",
    "print(std_dev_diffs_x)\n",
    "print(std_dev_diffs_y)\n",
    "# Discard differences whose value is not in the interval [mean_diff - std_dev, mean_diff + std_dev]\n",
    "# and do this for both horizontal and vertical differences\n",
    "discard_means_out_of_std_dev(diffs_x, diffs_y, \n",
    "                             mean_diffs_x, std_dev_diffs_x,\n",
    "                             mean_diffs_y, std_dev_diffs_y)\n",
    "# Recompute the mean of the horizontal and vertical differences and round it to the nearest integer\n",
    "# (since we use pixels)\n",
    "mean_diffs_x = round(np.mean(diffs_x))\n",
    "mean_diffs_y = round(np.mean(diffs_y))\n",
    "print(mean_diffs_x, mean_diffs_y)\n",
    "print(diffs_x)\n",
    "print(diffs_y)\n",
    "        \n",
    "print(f\"Total of {num_matches} matches\")"
   ]
  },
  {
   "cell_type": "code",
   "execution_count": null,
   "metadata": {},
   "outputs": [],
   "source": [
    "# Crop a Copernicus Hub patch according to its shift compared to its corresponding MARIDA patch\n",
    "# To do this:\n",
    "# 1. get coordinates of the center of the MARIDA patch\n",
    "# 2. shift them (horizontally and vertically) by the mean of differences previously computed \n",
    "# 3. crop the Copernicus Hub patch by considering the shifted center coordinates and the size of the MARIDA patch\n",
    "MARIDA_SIZE_X = 256\n",
    "MARIDA_SIZE_Y = 256\n",
    "HALF_MARIDA_SIZE_X = round(MARIDA_SIZE_X / 2)\n",
    "HALF_MARIDA_SIZE_Y = round(MARIDA_SIZE_Y / 2)\n",
    "# Read Copernicus Hub patch \n",
    "cop_hub_img = cv.imread(cop_hub_img_path, cv.IMREAD_GRAYSCALE)\n",
    "print(cop_hub_img.shape)\n",
    "# 1. get coordinates of the center of the MARIDA patch\n",
    "center_marida_x = HALF_MARIDA_SIZE_X\n",
    "center_marida_y = HALF_MARIDA_SIZE_Y\n",
    "# 2. shift them (horizontally and vertically) by the mean of differences previously computed \n",
    "corresponding_center_cop_hub_x = center_marida_x - mean_diffs_x\n",
    "corresponding_center_cop_hub_y = center_marida_y - mean_diffs_y\n",
    "# 3. crop the Copernicus Hub patch by considering the shifted center coordinates and the size of the MARIDA patch\n",
    "cop_hub_2_marida_img = \\\n",
    "    cop_hub_img[\n",
    "        corresponding_center_cop_hub_y - HALF_MARIDA_SIZE_Y:\n",
    "        corresponding_center_cop_hub_y + HALF_MARIDA_SIZE_Y,\n",
    "        corresponding_center_cop_hub_x - HALF_MARIDA_SIZE_X:\n",
    "        corresponding_center_cop_hub_x + HALF_MARIDA_SIZE_X\n",
    "        ]\n",
    "\n",
    "plt.imshow(cop_hub_2_marida_img)\n",
    "plt.title(\"Reconstruction of MARIDA from Copernicus Hub\")\n",
    "plt.show()\n",
    "print(cop_hub_2_marida_img.shape)"
   ]
  }
 ],
 "metadata": {
  "kernelspec": {
   "display_name": "superglue",
   "language": "python",
   "name": "python3"
  },
  "language_info": {
   "codemirror_mode": {
    "name": "ipython",
    "version": 3
   },
   "file_extension": ".py",
   "mimetype": "text/x-python",
   "name": "python",
   "nbconvert_exporter": "python",
   "pygments_lexer": "ipython3",
   "version": "3.10.10"
  },
  "orig_nbformat": 4
 },
 "nbformat": 4,
 "nbformat_minor": 2
}

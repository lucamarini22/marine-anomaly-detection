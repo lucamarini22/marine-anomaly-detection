{
 "cells": [
  {
   "attachments": {},
   "cell_type": "markdown",
   "metadata": {},
   "source": [
    "# Visualization of a MARIDA patch with its corresponding pre-processed L1C Copernicus Hub patch\n",
    "The patches I took from Copernicus Hub are larger than the ones of MARIDA. This notebook visualizes the Copernicus Hub and MARIDA patches before any processing is applied."
   ]
  },
  {
   "cell_type": "code",
   "execution_count": 8,
   "metadata": {},
   "outputs": [
    {
     "name": "stdout",
     "output_type": "stream",
     "text": [
      "The autoreload extension is already loaded. To reload it, use:\n",
      "  %reload_ext autoreload\n"
     ]
    }
   ],
   "source": [
    "%load_ext autoreload\n",
    "%autoreload 2"
   ]
  },
  {
   "cell_type": "code",
   "execution_count": 9,
   "metadata": {},
   "outputs": [],
   "source": [
    "\n",
    "import os\n",
    "import numpy as np\n",
    "import cv2 as cv\n",
    "import matplotlib.pyplot as plt\n",
    "\n",
    "from anomalymarinedetection.utils.string import number_starting_with_zero_2_number\n",
    "from anomalymarinedetection.io.image_io import ImageIO\n",
    "from anomalymarinedetection.io.tif_io import TifIO\n",
    "from anomalymarinedetection.imageprocessing.scale_img_to_0_255 import scale_img_to_0_255"
   ]
  },
  {
   "cell_type": "code",
   "execution_count": 10,
   "metadata": {},
   "outputs": [],
   "source": [
    "marida_patches_path = \"/data/anomaly-marine-detection/data/patches/\"\n",
    "cop_hub_patches_path = \"/data/pyraws_luca/pyraws/generate_l1c/l1c_images\"\n",
    "\n",
    "# MARIDA excluded bands B09 and B10 => bands to use to do keypoints matching:\n",
    "# B01, B02, B03, B04, B05, B06, B07, B08, B8A, B11, B12\n",
    "BAND_NAMES_IN_MARIDA = [\"B01\", \"B02\", \"B03\", \"B04\", \"B05\", \"B06\", \"B07\", \"B08\", \"B8A\", \"B11\", \"B12\"]\n",
    "\n",
    "number = \"0\"\n",
    "ext = \".tif\"\n",
    "marida_patch_name = \"S2_24-3-20_18QYF\" #\"S2_29-11-15_16PEC\"\n",
    "L1C = \"_l1c_\" \n",
    "\n",
    "band_cop_hub = \"B01\" # \"B04\"\n",
    "\n",
    "if band_cop_hub == \"B09\" or band_cop_hub == \"B10\":\n",
    "    raise Exception(\"MARIDA removed bands B09 and B10\")\n",
    "elif band_cop_hub == \"B11\" or band_cop_hub == \"B12\":\n",
    "    # we subtract 2 if it is band B11 or B12 due to the removal of previous bands B09 and B10\n",
    "    band_marida = int(number_starting_with_zero_2_number(band_cop_hub[-2:])) - 2\n",
    "elif band_cop_hub == \"B8A\":\n",
    "    band_marida = 8\n",
    "else:   \n",
    "    band_marida = int(number_starting_with_zero_2_number(band_cop_hub[-2:])) - 1"
   ]
  },
  {
   "cell_type": "code",
   "execution_count": 11,
   "metadata": {},
   "outputs": [],
   "source": [
    "image_io = ImageIO()\n",
    "tif_io = TifIO()"
   ]
  },
  {
   "cell_type": "code",
   "execution_count": 12,
   "metadata": {},
   "outputs": [
    {
     "name": "stdout",
     "output_type": "stream",
     "text": [
      "Unexpected exception formatting exception. Falling back to standard exception\n"
     ]
    },
    {
     "name": "stderr",
     "output_type": "stream",
     "text": [
      "Traceback (most recent call last):\n",
      "  File \"rasterio\\_base.pyx\", line 308, in rasterio._base.DatasetBase.__init__\n",
      "  File \"rasterio\\_base.pyx\", line 219, in rasterio._base.open_dataset\n",
      "  File \"rasterio\\_err.pyx\", line 221, in rasterio._err.exc_wrap_pointer\n",
      "rasterio._err.CPLE_OpenFailedError: '/data/anomaly-marine-detection/data/patches/S2_24-3-20_18QYF\\S2_24-3-20_18QYF_0.tif' does not exist in the file system, and is not recognized as a supported dataset name.\n",
      "\n",
      "During handling of the above exception, another exception occurred:\n",
      "\n",
      "Traceback (most recent call last):\n",
      "  File \"c:\\Users\\lucam\\miniconda3\\envs\\anomaly-marine-detection\\lib\\site-packages\\IPython\\core\\interactiveshell.py\", line 3460, in run_code\n",
      "    exec(code_obj, self.user_global_ns, self.user_ns)\n",
      "  File \"C:\\Users\\lucam\\AppData\\Local\\Temp\\ipykernel_1504\\202687726.py\", line 2, in <module>\n",
      "    img_marida, _ = acquire_data(marida_path)\n",
      "  File \"c:\\users\\lucam\\onedrive\\documenti\\kth\\2nd_year\\esa_thesis\\anomaly-marine-detection\\anomalymarinedetection\\utils\\utils.py\", line 125, in acquire_data\n",
      "    with rasterio.open(file_name) as raster:\n",
      "  File \"c:\\Users\\lucam\\miniconda3\\envs\\anomaly-marine-detection\\lib\\site-packages\\rasterio\\env.py\", line 451, in wrapper\n",
      "    return f(*args, **kwds)\n",
      "  File \"c:\\Users\\lucam\\miniconda3\\envs\\anomaly-marine-detection\\lib\\site-packages\\rasterio\\__init__.py\", line 304, in open\n",
      "    dataset = DatasetReader(path, driver=driver, sharing=sharing, **kwargs)\n",
      "  File \"rasterio\\_base.pyx\", line 310, in rasterio._base.DatasetBase.__init__\n",
      "rasterio.errors.RasterioIOError: '/data/anomaly-marine-detection/data/patches/S2_24-3-20_18QYF\\S2_24-3-20_18QYF_0.tif' does not exist in the file system, and is not recognized as a supported dataset name.\n",
      "\n",
      "During handling of the above exception, another exception occurred:\n",
      "\n",
      "Traceback (most recent call last):\n",
      "  File \"c:\\Users\\lucam\\miniconda3\\envs\\anomaly-marine-detection\\lib\\site-packages\\IPython\\core\\interactiveshell.py\", line 2057, in showtraceback\n",
      "    stb = self.InteractiveTB.structured_traceback(\n",
      "  File \"c:\\Users\\lucam\\miniconda3\\envs\\anomaly-marine-detection\\lib\\site-packages\\IPython\\core\\ultratb.py\", line 1288, in structured_traceback\n",
      "    return FormattedTB.structured_traceback(\n",
      "  File \"c:\\Users\\lucam\\miniconda3\\envs\\anomaly-marine-detection\\lib\\site-packages\\IPython\\core\\ultratb.py\", line 1177, in structured_traceback\n",
      "    return VerboseTB.structured_traceback(\n",
      "  File \"c:\\Users\\lucam\\miniconda3\\envs\\anomaly-marine-detection\\lib\\site-packages\\IPython\\core\\ultratb.py\", line 1049, in structured_traceback\n",
      "    formatted_exceptions += self.format_exception_as_a_whole(etype, evalue, etb, lines_of_context,\n",
      "  File \"c:\\Users\\lucam\\miniconda3\\envs\\anomaly-marine-detection\\lib\\site-packages\\IPython\\core\\ultratb.py\", line 935, in format_exception_as_a_whole\n",
      "    self.get_records(etb, number_of_lines_of_context, tb_offset) if etb else []\n",
      "  File \"c:\\Users\\lucam\\miniconda3\\envs\\anomaly-marine-detection\\lib\\site-packages\\IPython\\core\\ultratb.py\", line 1003, in get_records\n",
      "    lines, first = inspect.getsourcelines(etb.tb_frame)\n",
      "  File \"c:\\Users\\lucam\\miniconda3\\envs\\anomaly-marine-detection\\lib\\inspect.py\", line 1129, in getsourcelines\n",
      "    lines, lnum = findsource(object)\n",
      "  File \"c:\\Users\\lucam\\miniconda3\\envs\\anomaly-marine-detection\\lib\\inspect.py\", line 958, in findsource\n",
      "    raise OSError('could not get source code')\n",
      "OSError: could not get source code\n"
     ]
    }
   ],
   "source": [
    "marida_path = os.path.join(marida_patches_path, marida_patch_name, marida_patch_name + \"_\" + number + ext)\n",
    "img_marida, _ = tif_io.acquire_data(marida_path)\n",
    "print(img_marida.shape)\n",
    "plt.title(\"MARIDA\")\n",
    "plt.imshow(img_marida[:, :, band_marida])"
   ]
  },
  {
   "cell_type": "code",
   "execution_count": 13,
   "metadata": {},
   "outputs": [
    {
     "name": "stdout",
     "output_type": "stream",
     "text": [
      "Unexpected exception formatting exception. Falling back to standard exception\n"
     ]
    },
    {
     "name": "stderr",
     "output_type": "stream",
     "text": [
      "Traceback (most recent call last):\n",
      "  File \"rasterio\\_base.pyx\", line 308, in rasterio._base.DatasetBase.__init__\n",
      "  File \"rasterio\\_base.pyx\", line 219, in rasterio._base.open_dataset\n",
      "  File \"rasterio\\_err.pyx\", line 221, in rasterio._err.exc_wrap_pointer\n",
      "rasterio._err.CPLE_OpenFailedError: '/data/pyraws_luca/pyraws/generate_l1c/l1c_images\\S2_24-3-20_18QYF\\S2_24-3-20_18QYF_0\\S2_24-3-20_18QYF_0_l1c_B01.tif' does not exist in the file system, and is not recognized as a supported dataset name.\n",
      "\n",
      "During handling of the above exception, another exception occurred:\n",
      "\n",
      "Traceback (most recent call last):\n",
      "  File \"c:\\Users\\lucam\\miniconda3\\envs\\anomaly-marine-detection\\lib\\site-packages\\IPython\\core\\interactiveshell.py\", line 3460, in run_code\n",
      "    exec(code_obj, self.user_global_ns, self.user_ns)\n",
      "  File \"C:\\Users\\lucam\\AppData\\Local\\Temp\\ipykernel_1504\\1463335422.py\", line 1, in <module>\n",
      "    img_cop_hub, _ = acquire_data(\n",
      "  File \"c:\\users\\lucam\\onedrive\\documenti\\kth\\2nd_year\\esa_thesis\\anomaly-marine-detection\\anomalymarinedetection\\utils\\utils.py\", line 125, in acquire_data\n",
      "    with rasterio.open(file_name) as raster:\n",
      "  File \"c:\\Users\\lucam\\miniconda3\\envs\\anomaly-marine-detection\\lib\\site-packages\\rasterio\\env.py\", line 451, in wrapper\n",
      "    return f(*args, **kwds)\n",
      "  File \"c:\\Users\\lucam\\miniconda3\\envs\\anomaly-marine-detection\\lib\\site-packages\\rasterio\\__init__.py\", line 304, in open\n",
      "    dataset = DatasetReader(path, driver=driver, sharing=sharing, **kwargs)\n",
      "  File \"rasterio\\_base.pyx\", line 310, in rasterio._base.DatasetBase.__init__\n",
      "rasterio.errors.RasterioIOError: '/data/pyraws_luca/pyraws/generate_l1c/l1c_images\\S2_24-3-20_18QYF\\S2_24-3-20_18QYF_0\\S2_24-3-20_18QYF_0_l1c_B01.tif' does not exist in the file system, and is not recognized as a supported dataset name.\n",
      "\n",
      "During handling of the above exception, another exception occurred:\n",
      "\n",
      "Traceback (most recent call last):\n",
      "  File \"c:\\Users\\lucam\\miniconda3\\envs\\anomaly-marine-detection\\lib\\site-packages\\IPython\\core\\interactiveshell.py\", line 2057, in showtraceback\n",
      "    stb = self.InteractiveTB.structured_traceback(\n",
      "  File \"c:\\Users\\lucam\\miniconda3\\envs\\anomaly-marine-detection\\lib\\site-packages\\IPython\\core\\ultratb.py\", line 1288, in structured_traceback\n",
      "    return FormattedTB.structured_traceback(\n",
      "  File \"c:\\Users\\lucam\\miniconda3\\envs\\anomaly-marine-detection\\lib\\site-packages\\IPython\\core\\ultratb.py\", line 1177, in structured_traceback\n",
      "    return VerboseTB.structured_traceback(\n",
      "  File \"c:\\Users\\lucam\\miniconda3\\envs\\anomaly-marine-detection\\lib\\site-packages\\IPython\\core\\ultratb.py\", line 1049, in structured_traceback\n",
      "    formatted_exceptions += self.format_exception_as_a_whole(etype, evalue, etb, lines_of_context,\n",
      "  File \"c:\\Users\\lucam\\miniconda3\\envs\\anomaly-marine-detection\\lib\\site-packages\\IPython\\core\\ultratb.py\", line 935, in format_exception_as_a_whole\n",
      "    self.get_records(etb, number_of_lines_of_context, tb_offset) if etb else []\n",
      "  File \"c:\\Users\\lucam\\miniconda3\\envs\\anomaly-marine-detection\\lib\\site-packages\\IPython\\core\\ultratb.py\", line 1003, in get_records\n",
      "    lines, first = inspect.getsourcelines(etb.tb_frame)\n",
      "  File \"c:\\Users\\lucam\\miniconda3\\envs\\anomaly-marine-detection\\lib\\inspect.py\", line 1129, in getsourcelines\n",
      "    lines, lnum = findsource(object)\n",
      "  File \"c:\\Users\\lucam\\miniconda3\\envs\\anomaly-marine-detection\\lib\\inspect.py\", line 958, in findsource\n",
      "    raise OSError('could not get source code')\n",
      "OSError: could not get source code\n"
     ]
    }
   ],
   "source": [
    "img_cop_hub, _ = tif_io.acquire_data(\n",
    "    os.path.join(\n",
    "        cop_hub_patches_path, \n",
    "        marida_patch_name, \n",
    "        marida_patch_name + \"_\" + number,\n",
    "        marida_patch_name + \"_\" + number + L1C + band_cop_hub + ext)\n",
    ")\n",
    "print(img_cop_hub.shape)\n",
    "plt.title(\"Copernicus Hub\")\n",
    "plt.imshow(img_cop_hub)"
   ]
  },
  {
   "cell_type": "code",
   "execution_count": 14,
   "metadata": {},
   "outputs": [
    {
     "ename": "NameError",
     "evalue": "name 'img_marida' is not defined",
     "output_type": "error",
     "traceback": [
      "\u001b[1;31m---------------------------------------------------------------------------\u001b[0m",
      "\u001b[1;31mNameError\u001b[0m                                 Traceback (most recent call last)",
      "Cell \u001b[1;32mIn[14], line 3\u001b[0m\n\u001b[0;32m      1\u001b[0m fig, ax \u001b[39m=\u001b[39m plt\u001b[39m.\u001b[39msubplots(\u001b[39m1\u001b[39m, \u001b[39m2\u001b[39m)\n\u001b[0;32m      2\u001b[0m ax[\u001b[39m0\u001b[39m]\u001b[39m.\u001b[39mset_title(\u001b[39m\"\u001b[39m\u001b[39mMARIDA\u001b[39m\u001b[39m\"\u001b[39m)\n\u001b[1;32m----> 3\u001b[0m ax[\u001b[39m0\u001b[39m]\u001b[39m.\u001b[39mimshow(img_marida[:, :, band_marida] \u001b[39m/\u001b[39m img_marida[:, :, band_marida]\u001b[39m.\u001b[39mmax())\n\u001b[0;32m      4\u001b[0m ax[\u001b[39m1\u001b[39m]\u001b[39m.\u001b[39mset_title(\u001b[39m\"\u001b[39m\u001b[39mCopernicus Hub\u001b[39m\u001b[39m\"\u001b[39m)\n\u001b[0;32m      5\u001b[0m ax[\u001b[39m1\u001b[39m]\u001b[39m.\u001b[39mimshow(img_cop_hub \u001b[39m/\u001b[39m img_cop_hub\u001b[39m.\u001b[39mmax())\n",
      "\u001b[1;31mNameError\u001b[0m: name 'img_marida' is not defined"
     ]
    },
    {
     "data": {
      "image/png": "[encoded data removed]",
      "text/plain": [
       "<Figure size 640x480 with 2 Axes>"
      ]
     },
     "metadata": {},
     "output_type": "display_data"
    }
   ],
   "source": [
    "fig, ax = plt.subplots(1, 2)\n",
    "ax[0].set_title(\"MARIDA\")\n",
    "ax[0].imshow(img_marida[:, :, band_marida] / img_marida[:, :, band_marida].max())\n",
    "ax[1].set_title(\"Copernicus Hub\")\n",
    "ax[1].imshow(img_cop_hub / img_cop_hub.max())"
   ]
  },
  {
   "cell_type": "code",
   "execution_count": null,
   "metadata": {},
   "outputs": [
    {
     "name": "stdout",
     "output_type": "stream",
     "text": [
      "(256, 256)\n",
      "(296, 296)\n"
     ]
    }
   ],
   "source": [
    "\n",
    "img_marida = scale_img_to_0_255(img_marida[:, :, band_marida])\n",
    "print(img_marida.shape)\n",
    "image_io.save_img(img_marida, \"/data/anomaly-marine-detection/data/l1c_data/images_before_keypoint_matching/img_marida.png\")\n",
    "\n",
    "img_cop_hub = scale_img_to_0_255(img_cop_hub[:, :, 0])\n",
    "print(img_cop_hub.shape)\n",
    "image_io.save_img(img_cop_hub, \"/data/anomaly-marine-detection/data/l1c_data/images_before_keypoint_matching/img_cop_hub.png\")"
   ]
  },
  {
   "cell_type": "code",
   "execution_count": null,
   "metadata": {},
   "outputs": [],
   "source": []
  }
 ],
 "metadata": {
  "kernelspec": {
   "display_name": "pyraws_luca",
   "language": "python",
   "name": "python3"
  },
  "language_info": {
   "codemirror_mode": {
    "name": "ipython",
    "version": 3
   },
   "file_extension": ".py",
   "mimetype": "text/x-python",
   "name": "python",
   "nbconvert_exporter": "python",
   "pygments_lexer": "ipython3",
   "version": "3.10.9"
  },
  "orig_nbformat": 4
 },
 "nbformat": 4,
 "nbformat_minor": 2
}

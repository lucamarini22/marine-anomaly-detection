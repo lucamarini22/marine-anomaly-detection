{
 "cells": [
  {
   "attachments": {},
   "cell_type": "markdown",
   "metadata": {},
   "source": [
    "# Visualization of a MARIDA patch with its corresponding pre-processed L1C Copernicus Hub patch\n",
    "The patches I took from Copernicus Hub are larger than the ones of MARIDA. This notebook visualizes the Copernicus Hub and MARIDA patches before any processing is applied."
   ]
  },
  {
   "cell_type": "code",
   "execution_count": null,
   "metadata": {},
   "outputs": [],
   "source": [
    "%load_ext autoreload\n",
    "%autoreload 2"
   ]
  },
  {
   "cell_type": "code",
   "execution_count": null,
   "metadata": {},
   "outputs": [],
   "source": [
    "\n",
    "import os\n",
    "import numpy as np\n",
    "import cv2 as cv\n",
    "import matplotlib.pyplot as plt\n",
    "\n",
    "from anomalymarinedetection.utils.string import number_starting_with_zero_2_number\n",
    "from anomalymarinedetection.io.image_io import ImageIO\n",
    "from anomalymarinedetection.io.tif_io import TifIO\n",
    "from anomalymarinedetection.imageprocessing.scale_img_to_0_255 import scale_img_to_0_255"
   ]
  },
  {
   "cell_type": "code",
   "execution_count": null,
   "metadata": {},
   "outputs": [],
   "source": [
    "marida_patches_path = \"/data/anomaly-marine-detection/data/patches/\"\n",
    "cop_hub_patches_path = \"/data/pyraws_luca/pyraws/generate_l1c/l1c_images\"\n",
    "\n",
    "# MARIDA excluded bands B09 and B10 => bands to use to do keypoints matching:\n",
    "# B01, B02, B03, B04, B05, B06, B07, B08, B8A, B11, B12\n",
    "BAND_NAMES_IN_MARIDA = [\"B01\", \"B02\", \"B03\", \"B04\", \"B05\", \"B06\", \"B07\", \"B08\", \"B8A\", \"B11\", \"B12\"]\n",
    "\n",
    "number = \"0\"\n",
    "ext = \".tif\"\n",
    "marida_patch_name = \"S2_24-3-20_18QYF\" #\"S2_29-11-15_16PEC\"\n",
    "L1C = \"_l1c_\" \n",
    "\n",
    "band_cop_hub = \"B01\" # \"B04\"\n",
    "\n",
    "if band_cop_hub == \"B09\" or band_cop_hub == \"B10\":\n",
    "    raise Exception(\"MARIDA removed bands B09 and B10\")\n",
    "elif band_cop_hub == \"B11\" or band_cop_hub == \"B12\":\n",
    "    # we subtract 2 if it is band B11 or B12 due to the removal of previous bands B09 and B10\n",
    "    band_marida = int(number_starting_with_zero_2_number(band_cop_hub[-2:])) - 2\n",
    "elif band_cop_hub == \"B8A\":\n",
    "    band_marida = 8\n",
    "else:   \n",
    "    band_marida = int(number_starting_with_zero_2_number(band_cop_hub[-2:])) - 1"
   ]
  },
  {
   "cell_type": "code",
   "execution_count": null,
   "metadata": {},
   "outputs": [],
   "source": [
    "image_io = ImageIO()\n",
    "tif_io = TifIO()"
   ]
  },
  {
   "cell_type": "code",
   "execution_count": null,
   "metadata": {},
   "outputs": [],
   "source": [
    "marida_path = os.path.join(marida_patches_path, marida_patch_name, marida_patch_name + \"_\" + number + ext)\n",
    "img_marida, _ = tif_io.acquire_data(marida_path)\n",
    "print(img_marida.shape)\n",
    "plt.title(\"MARIDA\")\n",
    "plt.imshow(img_marida[:, :, band_marida])"
   ]
  },
  {
   "cell_type": "code",
   "execution_count": null,
   "metadata": {},
   "outputs": [],
   "source": [
    "img_cop_hub, _ = tif_io.acquire_data(\n",
    "    os.path.join(\n",
    "        cop_hub_patches_path, \n",
    "        marida_patch_name, \n",
    "        marida_patch_name + \"_\" + number,\n",
    "        marida_patch_name + \"_\" + number + L1C + band_cop_hub + ext)\n",
    ")\n",
    "print(img_cop_hub.shape)\n",
    "plt.title(\"Copernicus Hub\")\n",
    "plt.imshow(img_cop_hub)"
   ]
  },
  {
   "cell_type": "code",
   "execution_count": null,
   "metadata": {},
   "outputs": [],
   "source": [
    "fig, ax = plt.subplots(1, 2)\n",
    "ax[0].set_title(\"MARIDA\")\n",
    "ax[0].imshow(img_marida[:, :, band_marida] / img_marida[:, :, band_marida].max())\n",
    "ax[1].set_title(\"Copernicus Hub\")\n",
    "ax[1].imshow(img_cop_hub / img_cop_hub.max())"
   ]
  },
  {
   "cell_type": "code",
   "execution_count": null,
   "metadata": {},
   "outputs": [],
   "source": [
    "\n",
    "img_marida = scale_img_to_0_255(img_marida[:, :, band_marida])\n",
    "print(img_marida.shape)\n",
    "image_io.save_img(img_marida, \"/data/anomaly-marine-detection/data/l1c_data/images_before_keypoint_matching/img_marida.png\")\n",
    "\n",
    "img_cop_hub = scale_img_to_0_255(img_cop_hub[:, :, 0])\n",
    "print(img_cop_hub.shape)\n",
    "image_io.save_img(img_cop_hub, \"/data/anomaly-marine-detection/data/l1c_data/images_before_keypoint_matching/img_cop_hub.png\")"
   ]
  },
  {
   "cell_type": "code",
   "execution_count": null,
   "metadata": {},
   "outputs": [],
   "source": []
  }
 ],
 "metadata": {
  "kernelspec": {
   "display_name": "pyraws_luca",
   "language": "python",
   "name": "python3"
  },
  "language_info": {
   "codemirror_mode": {
    "name": "ipython",
    "version": 3
   },
   "file_extension": ".py",
   "mimetype": "text/x-python",
   "name": "python",
   "nbconvert_exporter": "python",
   "pygments_lexer": "ipython3",
   "version": "3.10.10"
  },
  "orig_nbformat": 4
 },
 "nbformat": 4,
 "nbformat_minor": 2
}

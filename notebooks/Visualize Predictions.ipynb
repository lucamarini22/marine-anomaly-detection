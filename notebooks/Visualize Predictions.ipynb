{
 "cells": [
  {
   "cell_type": "code",
   "execution_count": null,
   "metadata": {},
   "outputs": [],
   "source": [
    "import os\n",
    "import numpy as np\n",
    "import rasterio\n",
    "import matplotlib.pyplot as plt\n",
    "\n",
    "from anomalymarinedetection.utils.assets import labels, labels_binary, labels_multi\n",
    "from anomalymarinedetection.io.tif_io import TifIO"
   ]
  },
  {
   "cell_type": "code",
   "execution_count": null,
   "metadata": {},
   "outputs": [],
   "source": [
    "aggregate_classes = 'multi'\n",
    "patch_name = 'S2_14-9-18_16PCC'\n",
    "max_num = 5"
   ]
  },
  {
   "cell_type": "code",
   "execution_count": null,
   "metadata": {},
   "outputs": [],
   "source": [
    "if aggregate_classes == 'binary':\n",
    "    labels_agg = labels_binary\n",
    "elif aggregate_classes == 'multi':\n",
    "    labels_agg = labels_multi\n",
    "else:\n",
    "    raise Exception(\"Wrong type of aggregation of classes\")"
   ]
  },
  {
   "cell_type": "code",
   "execution_count": null,
   "metadata": {},
   "outputs": [],
   "source": [
    "# Constants\n",
    "folder_predictions = '/data/anomaly-marine-detection/data/predicted_unet'\n",
    "folder_gt = '/data/anomaly-marine-detection/data/patches'\n",
    "model_name = 'unet'\n",
    "gt_name = \"cl\"\n",
    "ext = '.tif'\n",
    "separator = '_'\n",
    "\n",
    "original_labels = labels"
   ]
  },
  {
   "cell_type": "code",
   "execution_count": null,
   "metadata": {},
   "outputs": [],
   "source": [
    "tif_io = TifIO()"
   ]
  },
  {
   "cell_type": "code",
   "execution_count": null,
   "metadata": {},
   "outputs": [],
   "source": [
    "# Plot ground truth and prediction\n",
    "# The Ground Truth is showing the colors of all the original 15 classes, and not the colors of the aggregated classes (binary or multi)\n",
    "for number in range(max_num + 1):\n",
    "    # Read rgb image\n",
    "    file_path = os.path.join(folder_gt, patch_name, patch_name + separator + str(number) + ext)\n",
    "    rgb_img, _ = tif_io.tif_2_rgb(file_path)\n",
    "    \n",
    "    # Read ground truth\n",
    "    gt = rasterio.open(os.path.join(folder_gt, patch_name, patch_name + separator + str(number) + separator + gt_name + ext))\n",
    "    gt_img = gt.read()\n",
    "    \n",
    "    # Read prediction\n",
    "    pred = rasterio.open(os.path.join(folder_predictions, patch_name + separator + str(number) + separator + model_name + ext))\n",
    "    pred_img = pred.read()\n",
    "    pred_img.shape\n",
    "    \n",
    "    fig, ax = plt.subplots(1, 3, figsize=(20, 11))\n",
    "    ax[0].set_title(\"RGB Image\")\n",
    "    ax[0].imshow(rgb_img / rgb_img.max())\n",
    "    ax[1].set_title(\"Prediction\")\n",
    "    ax[1].imshow(pred_img[0, :, :])\n",
    "    ax[2].set_title(\"Ground Truth\")\n",
    "    ax[2].imshow(gt_img[0, :, :])\n",
    "    # Print value counts in the prediction\n",
    "    print('Prediction')\n",
    "    values, counts = np.unique(pred_img, return_counts=True)\n",
    "    for idx in range(len(values)):\n",
    "        print(f\"# pixels = {labels_agg[int(values[idx]) - 1]} -> {counts[idx]}\")\n",
    "    # Print value counts in the ground truth\n",
    "    print('Ground truth')\n",
    "    values, counts = np.unique(gt_img, return_counts=True)\n",
    "    for idx in range(len(values)):\n",
    "        print(f\"# pixels = {original_labels[int(values[idx]) - 1]} -> {counts[idx]} times\")"
   ]
  },
  {
   "cell_type": "code",
   "execution_count": null,
   "metadata": {},
   "outputs": [],
   "source": []
  }
 ],
 "metadata": {
  "kernelspec": {
   "display_name": "anomaly-marine-detection",
   "language": "python",
   "name": "python3"
  },
  "language_info": {
   "codemirror_mode": {
    "name": "ipython",
    "version": 3
   },
   "file_extension": ".py",
   "mimetype": "text/x-python",
   "name": "python",
   "nbconvert_exporter": "python",
   "pygments_lexer": "ipython3",
   "version": "3.10.10"
  },
  "orig_nbformat": 4
 },
 "nbformat": 4,
 "nbformat_minor": 2
}

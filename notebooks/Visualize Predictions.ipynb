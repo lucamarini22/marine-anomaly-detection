{
 "cells": [
  {
   "cell_type": "code",
   "execution_count": null,
   "metadata": {},
   "outputs": [],
   "source": [
    "import os \n",
    "os.getcwd()\n",
    "import sys \n",
    "sys.path.append(\"../\")"
   ]
  },
  {
   "cell_type": "code",
   "execution_count": null,
   "metadata": {},
   "outputs": [],
   "source": [
    "import os\n",
    "import numpy as np\n",
    "import rasterio\n",
    "import matplotlib.pyplot as plt\n",
    "\n",
    "from marineanomalydetection.utils.assets import labels, labels_binary, labels_multi, labels_11_classes\n",
    "from marineanomalydetection.io.tif_io import TifIO\n",
    "from marineanomalydetection.io.load_data import (\n",
    "    load_segmentation_map,\n",
    ")\n",
    "from marineanomalydetection.dataset.categoryaggregation import (\n",
    "    CategoryAggregation,\n",
    ")\n",
    "from marineanomalydetection.dataset.aggregator import (\n",
    "    aggregate_to_multi, aggregate_to_binary, aggregate_to_11_classes\n",
    ")"
   ]
  },
  {
   "cell_type": "code",
   "execution_count": null,
   "metadata": {},
   "outputs": [],
   "source": [
    "aggregate_classes = CategoryAggregation.MULTI\n",
    "tile_name = 'S2_4-3-18_50LLR' #'S2_30-8-18_16PCC'\n",
    "init_num = 24\n",
    "max_num = 24"
   ]
  },
  {
   "cell_type": "code",
   "execution_count": null,
   "metadata": {},
   "outputs": [],
   "source": [
    "ONLY_IMGS_WITH_MARINE_DEBRIS_IN_BOTH_PRED_AND_GT = False"
   ]
  },
  {
   "cell_type": "code",
   "execution_count": null,
   "metadata": {},
   "outputs": [],
   "source": [
    "if aggregate_classes == CategoryAggregation.BINARY:\n",
    "    labels_agg = labels_binary\n",
    "elif aggregate_classes == CategoryAggregation.MULTI:\n",
    "    labels_agg = labels_multi\n",
    "elif aggregate_classes == CategoryAggregation.ELEVEN:\n",
    "    labels_agg = labels_11_classes\n",
    "else:\n",
    "    raise Exception(\"Wrong type of aggregation of classes\")"
   ]
  },
  {
   "cell_type": "code",
   "execution_count": null,
   "metadata": {},
   "outputs": [],
   "source": [
    "# Constants\n",
    "folder_predictions = '../data/predicted_unet'\n",
    "folder_gt = '../data/patches'\n",
    "model_name = 'unet'\n",
    "gt_name = \"cl\"\n",
    "ext = '.tif'\n",
    "separator = '_'\n",
    "\n",
    "original_labels = labels"
   ]
  },
  {
   "cell_type": "code",
   "execution_count": null,
   "metadata": {},
   "outputs": [],
   "source": [
    "tif_io = TifIO()"
   ]
  },
  {
   "cell_type": "code",
   "execution_count": null,
   "metadata": {},
   "outputs": [],
   "source": [
    "def aggregate_classes_fn(aggregate_classes, seg_map):\n",
    "    # Aggregation\n",
    "    if aggregate_classes == CategoryAggregation.MULTI:\n",
    "        seg_map = aggregate_to_multi(seg_map)\n",
    "\n",
    "    elif aggregate_classes == CategoryAggregation.BINARY:\n",
    "        seg_map = aggregate_to_binary(seg_map)\n",
    "        \n",
    "    elif aggregate_classes == CategoryAggregation.ELEVEN:\n",
    "        seg_map = aggregate_to_11_classes(seg_map)\n",
    "    return seg_map"
   ]
  },
  {
   "cell_type": "code",
   "execution_count": null,
   "metadata": {},
   "outputs": [],
   "source": [
    "def get_coords_marine_debris(img: np.array, marine_debris_idx: int = 0):\n",
    "    return np.where(img == marine_debris_idx)"
   ]
  },
  {
   "cell_type": "code",
   "execution_count": null,
   "metadata": {},
   "outputs": [],
   "source": [
    "def draw_circles_on_marine_debris_pixels(ax, coords_x_md, coords_y_md):\n",
    "    for xx,yy in zip(coords_x_md, coords_y_md):\n",
    "        circ = plt.Circle((xx, yy), 5, color='r', fill=False)\n",
    "        ax.add_patch(circ)"
   ]
  },
  {
   "cell_type": "code",
   "execution_count": null,
   "metadata": {},
   "outputs": [],
   "source": [
    "def make_plot(\n",
    "    ax,\n",
    "    number: int,\n",
    "    rgb_img: np.array, \n",
    "    pred_img: np.array,\n",
    "    seg_map: np.array,\n",
    "    not_labeled_idx: int = -1,\n",
    "    marine_debris_idx_seg_map: int = 0,\n",
    "    focus_on_marine_debris: bool = False\n",
    "):\n",
    "    ax[0].set_title(\"RGB Image\")\n",
    "    ax[0].imshow(rgb_img / rgb_img.max())\n",
    "    \n",
    "    ax[1].set_title(\"Prediction\")\n",
    "    ax[1].imshow(pred_img[0, :, :], vmin=not_labeled_idx, vmax=len(labels_multi))\n",
    "    if focus_on_marine_debris:\n",
    "        coords_md_y, coords_md_x = get_coords_marine_debris(pred_img[0, :, :], marine_debris_idx_seg_map)\n",
    "        draw_circles_on_marine_debris_pixels(ax[1], coords_md_x, coords_md_y)\n",
    "        \n",
    "    ax[2].set_title(\"Ground Truth\")\n",
    "    ax[2].imshow(seg_map, vmin=not_labeled_idx, vmax=len(labels_multi))\n",
    "    if focus_on_marine_debris:\n",
    "        coords_md_y, coords_md_x = get_coords_marine_debris(seg_map, marine_debris_idx_seg_map)\n",
    "        draw_circles_on_marine_debris_pixels(ax[2], coords_md_x, coords_md_y)\n",
    "    \n",
    "    ax[0].axis('off')\n",
    "    ax[1].axis('off')\n",
    "    ax[2].axis('off')\n",
    "    plt.tight_layout()\n",
    "    plt.show()\n",
    "    \n",
    "    print(f\"Idx: {number}\")\n",
    "    \n",
    "    \n",
    "    # Print value counts in the prediction\n",
    "    print('Prediction')\n",
    "    values_1, counts_1 = np.unique(pred_img, return_counts=True)\n",
    "    for idx in range(len(values_1)):\n",
    "        print(f\"# pixels = {labels_agg[int(values_1[idx])]} -> {counts_1[idx]}\")\n",
    "    # Print value counts in the ground truth\n",
    "    print('Ground truth')\n",
    "    values, counts = np.unique(seg_map, return_counts=True)\n",
    "\n",
    "    for idx in range(len(values)):\n",
    "        if values[idx] != not_labeled_idx:\n",
    "            print(f\"# pixels = {labels_agg[int(values[idx])]} -> {counts[idx]} times\")\n",
    "    \n",
    "    print(np.unique(pred_img))\n",
    "    print(np.unique(seg_map))\n",
    "    print(\"_\" * 80)"
   ]
  },
  {
   "cell_type": "code",
   "execution_count": null,
   "metadata": {},
   "outputs": [],
   "source": [
    "not_labeled_idx = -1\n",
    "focus_on_marine_debris = ONLY_IMGS_WITH_MARINE_DEBRIS_IN_BOTH_PRED_AND_GT\n",
    "# Plot ground truth and prediction\n",
    "# The Ground Truth is showing the colors of all the original 15 classes, and not the colors of the aggregated classes (binary or multi)\n",
    "for number in range(init_num, max_num + 1):\n",
    "    # Read rgb image\n",
    "    file_path = os.path.join(folder_gt, tile_name, tile_name + separator + str(number) + ext)\n",
    "    rgb_img, _ = tif_io.tif_2_rgb(file_path)\n",
    "    \n",
    "    # Read ground truth\n",
    "    seg_map = load_segmentation_map(os.path.join(folder_gt, tile_name, tile_name + separator + str(number) + separator + gt_name + ext))\n",
    "    seg_map = aggregate_classes_fn(aggregate_classes, seg_map)\n",
    "    seg_map = np.copy(seg_map - 1)\n",
    "    \n",
    "    # Read prediction\n",
    "    pred_path = os.path.join(folder_predictions, tile_name + separator + str(number) + separator + model_name + ext)\n",
    "    pred = rasterio.open(pred_path)\n",
    "    pred_img = pred.read()\n",
    "    \n",
    "    pred_img = pred_img - 1\n",
    "    \n",
    "    marine_debris_idx_seg_map = 0\n",
    "\n",
    "    if ONLY_IMGS_WITH_MARINE_DEBRIS_IN_BOTH_PRED_AND_GT \\\n",
    "        and marine_debris_idx_seg_map in np.unique(seg_map) \\\n",
    "        and marine_debris_idx_seg_map in np.unique(pred_img):\n",
    "                \n",
    "        fig, ax = plt.subplots(1, 3, figsize=(20, 11))\n",
    "        make_plot(\n",
    "            ax,\n",
    "            number,\n",
    "            rgb_img, \n",
    "            pred_img,\n",
    "            seg_map,\n",
    "            not_labeled_idx,\n",
    "            focus_on_marine_debris=focus_on_marine_debris\n",
    "        )\n",
    "    else:\n",
    "        fig, ax = plt.subplots(1, 3, figsize=(20, 11))\n",
    "        make_plot(\n",
    "            ax,\n",
    "            number,\n",
    "            rgb_img, \n",
    "            pred_img,\n",
    "            seg_map,\n",
    "            not_labeled_idx,\n",
    "            marine_debris_idx_seg_map, \n",
    "            focus_on_marine_debris=focus_on_marine_debris\n",
    "        )\n",
    "        "
   ]
  },
  {
   "cell_type": "code",
   "execution_count": null,
   "metadata": {},
   "outputs": [],
   "source": [
    "IDX_TO_SAVE = [30, 32]"
   ]
  },
  {
   "cell_type": "code",
   "execution_count": null,
   "metadata": {},
   "outputs": [],
   "source": [
    "not_labeled_idx = -1\n",
    "# Plot ground truth and prediction\n",
    "# The Ground Truth is showing the colors of all the original 15 classes, and not the colors of the aggregated classes (binary or multi)\n",
    "for number in IDX_TO_SAVE:\n",
    "        # Read rgb image\n",
    "        file_path = os.path.join(folder_gt, tile_name, tile_name + separator + str(number) + ext)\n",
    "        rgb_img, _ = tif_io.tif_2_rgb(file_path)\n",
    "        \n",
    "        # Read ground truth\n",
    "        seg_map = load_segmentation_map(os.path.join(folder_gt, tile_name, tile_name + separator + str(number) + separator + gt_name + ext))\n",
    "        seg_map = aggregate_classes_fn(aggregate_classes, seg_map)\n",
    "        seg_map = np.copy(seg_map - 1)\n",
    "        \n",
    "        # Read prediction\n",
    "        pred = rasterio.open(os.path.join(folder_predictions, tile_name + separator + str(number) + separator + model_name + ext))\n",
    "        pred_img = pred.read()\n",
    "        \n",
    "        pred_img = pred_img - 1\n",
    "        \n",
    "        fig, ax = plt.subplots(1)\n",
    "        ax.set_aspect('equal')\n",
    "        plt.title(\"RGB Image\")\n",
    "        plt.axis('off')\n",
    "        plt.imshow(rgb_img / rgb_img.max())\n",
    "        plt.savefig(f\"../res/RGB{number}.png\", bbox_inches='tight')\n",
    "        \n",
    "        fig, ax = plt.subplots(1)\n",
    "        ax.set_aspect('equal')\n",
    "        ax.set_title(\"Semi-supervised prediction\")\n",
    "        ax.axis('off')\n",
    "        plt.imshow(pred_img[0, :, :], vmin=-1, vmax=len(labels_multi))\n",
    "        if focus_on_marine_debris:\n",
    "            coords_md_y, coords_md_x = get_coords_marine_debris(pred_img[0, :, :], marine_debris_idx_seg_map)\n",
    "            draw_circles_on_marine_debris_pixels(ax, coords_md_x, coords_md_y)\n",
    "        plt.savefig(f\"../res/Prediction_ssl{number}.png\", bbox_inches='tight')\n",
    "        \n",
    "        fig, ax = plt.subplots(1)\n",
    "        ax.set_aspect('equal')\n",
    "        ax.set_title(\"Ground Truth\")\n",
    "        ax.axis('off')\n",
    "        ax.imshow(seg_map, vmin=-1, vmax=len(labels_multi))\n",
    "\n",
    "        if focus_on_marine_debris:\n",
    "            coords_md_y, coords_md_x = get_coords_marine_debris(seg_map, marine_debris_idx_seg_map)\n",
    "            draw_circles_on_marine_debris_pixels(ax, coords_md_x, coords_md_y)\n",
    "        plt.savefig(f\"../res/gt{number}.png\", bbox_inches='tight')"
   ]
  }
 ],
 "metadata": {
  "kernelspec": {
   "display_name": "anomaly-marine-detection",
   "language": "python",
   "name": "python3"
  },
  "language_info": {
   "codemirror_mode": {
    "name": "ipython",
    "version": 3
   },
   "file_extension": ".py",
   "mimetype": "text/x-python",
   "name": "python",
   "nbconvert_exporter": "python",
   "pygments_lexer": "ipython3",
   "version": "3.11.6"
  },
  "orig_nbformat": 4
 },
 "nbformat": 4,
 "nbformat_minor": 2
}
